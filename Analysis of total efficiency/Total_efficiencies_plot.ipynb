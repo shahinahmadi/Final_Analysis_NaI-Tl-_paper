{
 "cells": [
  {
   "cell_type": "markdown",
   "metadata": {},
   "source": [
    "# Plots for total efficiencies of 2in detecor"
   ]
  },
  {
   "cell_type": "markdown",
   "metadata": {},
   "source": [
    "### Total detection efficiency for axial positions of the source"
   ]
  },
  {
   "cell_type": "code",
   "execution_count": 1,
   "metadata": {},
   "outputs": [
    {
     "name": "stdout",
     "output_type": "stream",
     "text": [
      "[-2.0, -1.8, -1.6, -1.4000000000000001, -1.2000000000000002, -1.0000000000000002, -0.8000000000000003, -0.6000000000000003, -0.40000000000000036, -0.2000000000000004, -4.440892098500626e-16, 0.1999999999999993, 0.39999999999999947, 0.5999999999999996, 0.7999999999999994, 0.9999999999999991, 1.1999999999999993, 1.3999999999999995, 1.5999999999999992, 1.799999999999999, 1.9999999999999991]\n",
      "Average: \n",
      "2.6466505688367286\n"
     ]
    },
    {
     "data": {
      "text/plain": [
       "<Figure size 640x480 with 1 Axes>"
      ]
     },
     "metadata": {},
     "output_type": "display_data"
    }
   ],
   "source": [
    "import pandas as pd\n",
    "from matplotlib import pyplot as plt\n",
    "import math\n",
    "import numpy as np\n",
    "\n",
    "data1=pd.read_csv(\"axial_total.csv\")\n",
    "data1\n",
    "\n",
    "x_positions=[]\n",
    "\n",
    "Positions=np.arange(-2,2.2 ,0.2)\n",
    "for i in Positions:\n",
    "    x_positions.append(i)\n",
    "\n",
    "total_efficiency_calculation=data1[\"Calculation\"]*100\n",
    "total_efficiency_experiment=data1[\"Experiment\"]*100\n",
    "total_efficiency_simulation=data1[\"Simulation\"]*100\n",
    "\n",
    "print(x_positions)\n",
    "\n",
    "#Calculation of the error bar\n",
    "sigma=0\n",
    "average=0\n",
    "for i in total_efficiency_experiment:\n",
    "    average+=i/21\n",
    "print(\"Average: \")\n",
    "print(average)\n",
    "\n",
    "for i in total_efficiency_experiment:\n",
    "    sigma+=((i-average)*(i-average))\n",
    "sigma=math.sqrt(sigma/len(total_efficiency_calculation))\n",
    "e=sigma/math.sqrt(len(total_efficiency_calculation))\n",
    "\n",
    "\n",
    "for i in total_efficiency_simulation:\n",
    "    sigma+=((i-average)*(i-average))\n",
    "sigma=math.sqrt(sigma/len(total_efficiency_calculation))\n",
    "e2=sigma/math.sqrt(len(total_efficiency_calculation))\n",
    "\n",
    "\n",
    "plt.xlabel(\"Axial position y(cm)\")\n",
    "plt.ylabel(\"Absolute detection efficiency (%)\")\n",
    "plt.xticks(np.arange(-2,2.2,0.4),fontsize=10)\n",
    "plt.scatter(x_positions, total_efficiency_calculation,color=\"none\", edgecolor=\"red\",label=\"Calculation\")\n",
    "plt.scatter(x_positions, total_efficiency_experiment,color=\"none\", edgecolor=\"green\",marker='s' ,label=\"Experiment\")\n",
    "plt.scatter(x_positions, total_efficiency_simulation,color=\"none\", edgecolor=\"blue\",marker='^' ,label=\"Simulation\")\n",
    "plt.errorbar(x_positions, total_efficiency_experiment, yerr=e, color=\"black\", capsize=3, ls=\"none\",label=\"Experimental uncertainty\")\n",
    "plt.errorbar(x_positions, total_efficiency_simulation, yerr=e, color=\"grey\", capsize=3, ls=\"none\", label=\"Simulation uncertainty\")\n",
    "plt.legend()\n",
    "plt.ylim(1,5)\n",
    "plt.rc('legend',fontsize=8)\n",
    "plt.legend(handlelength=0.5, handleheight=0.2)\n",
    "leg = plt.legend(loc =\"upper right\")\n",
    "plt.savefig(\"Axial.pdf\", bbox_inches=\"tight\")\n",
    "plt.show()"
   ]
  },
  {
   "cell_type": "markdown",
   "metadata": {},
   "source": [
    "### Total efficiency for the axial positions of the source"
   ]
  },
  {
   "cell_type": "code",
   "execution_count": 2,
   "metadata": {},
   "outputs": [
    {
     "name": "stdout",
     "output_type": "stream",
     "text": [
      "[-2.0, -1.8, -1.6, -1.4000000000000001, -1.2000000000000002, -1.0000000000000002, -0.8000000000000003, -0.6000000000000003, -0.40000000000000036, -0.2000000000000004, -4.440892098500626e-16, 0.1999999999999993, 0.39999999999999947, 0.5999999999999996, 0.7999999999999994, 0.9999999999999991, 1.1999999999999993, 1.3999999999999995, 1.5999999999999992, 1.799999999999999, 1.9999999999999991]\n",
      "Average: \n",
      "2.6370837586868237\n",
      "Average: \n",
      "2.622129329165714\n"
     ]
    },
    {
     "data": {
      "image/png": "[encoded data removed]",
      "text/plain": [
       "<Figure size 432x288 with 1 Axes>"
      ]
     },
     "metadata": {
      "needs_background": "light"
     },
     "output_type": "display_data"
    }
   ],
   "source": [
    "import csv\n",
    "import pandas as pd\n",
    "from matplotlib import pyplot as plt\n",
    "import math\n",
    "import numpy as np\n",
    "from itertools import zip_longest\n",
    "\n",
    "data1=pd.read_csv(\"cir_total.csv\")\n",
    "data1\n",
    "\n",
    "x_positions=[]\n",
    "\n",
    "Positions=np.arange(-2,2.2 ,0.2)\n",
    "for i in Positions:\n",
    "    x_positions.append(i)\n",
    "\n",
    "total_efficiency_calculation=data1[\"Calculation\"]*100\n",
    "total_efficiency_experiment=data1[\"Experiment\"]*100\n",
    "total_efficiency_simulation=data1[\"Simulation\"]*100\n",
    "\n",
    "d=[total_efficiency_calculation, total_efficiency_experiment,total_efficiency_simulation]\n",
    "export_data=zip_longest(*d, fillvalue='')\n",
    "with open ('Total_efficiency.csv', 'w' , encoding=\"ISO-8859-1\", newline='') as myfile:\n",
    "    wr=csv.writer(myfile)\n",
    "    wr.writerow((\"total_efficiency_calculation\",\"total_efficiency_experiment\",\"total_efficiency_simulation\"))\n",
    "    wr.writerows(export_data)\n",
    "myfile.close()\n",
    "        \n",
    "\n",
    "print(x_positions)\n",
    "\n",
    "#Calculation of the error bar for experimental data\n",
    "sigma=0\n",
    "average=0\n",
    "for i in total_efficiency_experiment:\n",
    "    average+=i/21\n",
    "print(\"Average: \")\n",
    "print(average)\n",
    "\n",
    "for i in total_efficiency_experiment:\n",
    "    sigma+=((i-average)*(i-average))\n",
    "sigma=math.sqrt(sigma/len(total_efficiency_calculation))\n",
    "e1=sigma/math.sqrt(len(total_efficiency_calculation))\n",
    "#Calculation of the error bar for simulation data\n",
    "sigma=0\n",
    "average=0\n",
    "for i in total_efficiency_simulation:\n",
    "    average+=i/21\n",
    "print(\"Average: \")\n",
    "print(average)\n",
    "\n",
    "for i in total_efficiency_simulation:\n",
    "    sigma+=((i-average)*(i-average))\n",
    "sigma=math.sqrt(sigma/len(total_efficiency_calculation))\n",
    "e2=sigma/math.sqrt(len(total_efficiency_calculation))\n",
    "\n",
    "\n",
    "\n",
    "\n",
    "plt.xlabel(\"Radial position x(cm)\")\n",
    "plt.ylabel(\"Absolute detection efficiency (%)\")\n",
    "plt.xticks(np.arange(-2,2.2,0.4),fontsize=10)\n",
    "plt.scatter(x_positions, total_efficiency_calculation,color=\"none\", edgecolor=\"red\",label=\"Calculation\")\n",
    "plt.scatter(x_positions, total_efficiency_experiment,color=\"none\", edgecolor=\"green\",marker='s' ,label=\"Experiment\")\n",
    "plt.scatter(x_positions, total_efficiency_simulation,color=\"none\", edgecolor=\"blue\",marker='^' ,label=\"Simulation\")\n",
    "plt.errorbar(x_positions, total_efficiency_experiment, yerr=e1, color=\"black\", capsize=3, ls=\"none\",label=\"Experimental uncertainty\")\n",
    "plt.errorbar(x_positions, total_efficiency_simulation, yerr=e2, color=\"gray\", capsize=3, ls=\"none\", label=\"Simulation uncertainty\")\n",
    "plt.legend()\n",
    "plt.ylim(1,5)\n",
    "plt.rc('legend',fontsize=7.9)\n",
    "plt.legend(handlelength=0.45, handleheight=0.18)\n",
    "leg = plt.legend(loc =\"upper right\")\n",
    "plt.savefig(\"Radial.pdf\", bbox_inches=\"tight\")\n",
    "plt.show()"
   ]
  },
  {
   "cell_type": "markdown",
   "metadata": {},
   "source": [
    "### Total efficiency for diagonal positions of the source"
   ]
  },
  {
   "cell_type": "code",
   "execution_count": 3,
   "metadata": {},
   "outputs": [
    {
     "name": "stdout",
     "output_type": "stream",
     "text": [
      "These are the positions that you are looking for:  \n",
      "-2.0\n",
      "-1.8\n",
      "-1.6\n",
      "-1.4000000000000001\n",
      "-1.2000000000000002\n",
      "-1.0000000000000002\n",
      "-0.8000000000000003\n",
      "-0.6000000000000003\n",
      "-0.40000000000000036\n",
      "-0.2000000000000004\n",
      "-4.440892098500626e-16\n",
      "0.1999999999999993\n",
      "0.39999999999999947\n",
      "0.5999999999999996\n",
      "0.7999999999999994\n",
      "0.9999999999999991\n",
      "1.1999999999999993\n",
      "1.3999999999999995\n",
      "1.5999999999999992\n",
      "1.799999999999999\n",
      "1.9999999999999991\n",
      "[-2.0, -1.8, -1.6, -1.4000000000000001, -1.2000000000000002, -1.0000000000000002, -0.8000000000000003, -0.6000000000000003, -0.40000000000000036, -0.2000000000000004, -4.440892098500626e-16, 0.1999999999999993, 0.39999999999999947, 0.5999999999999996, 0.7999999999999994, 0.9999999999999991, 1.1999999999999993, 1.3999999999999995, 1.5999999999999992, 1.799999999999999, 1.9999999999999991]\n",
      "Average: \n",
      "2.4177092462751855\n",
      "Average: \n",
      "2.429011756809124\n"
     ]
    },
    {
     "data": {
      "image/png": "[encoded data removed]",
      "text/plain": [
       "<Figure size 432x288 with 1 Axes>"
      ]
     },
     "metadata": {
      "needs_background": "light"
     },
     "output_type": "display_data"
    }
   ],
   "source": [
    "import pandas as pd\n",
    "from matplotlib import pyplot as plt\n",
    "import math\n",
    "import numpy as np\n",
    "\n",
    "data1=pd.read_csv(\"dia_total.csv\")\n",
    "data1\n",
    "\n",
    "x_positions=[]\n",
    "y_positions=[]\n",
    "\n",
    "Positions=np.arange(-2,2.2 ,0.2)\n",
    "for i in Positions:\n",
    "    x_positions.append(i)\n",
    "    y_positions.append(i)\n",
    " \n",
    "print(\"These are the positions that you are looking for:  \")\n",
    "for i in x_positions:\n",
    "    for j in y_positions:\n",
    "        if(x_positions.index(i)==y_positions.index(j)):\n",
    "\n",
    "          print(i)\n",
    "\n",
    "total_efficiency_calculation=data1[\"Calculation\"]*100\n",
    "total_efficiency_experiment=data1[\"Experiment\"]*100\n",
    "total_efficiency_simulation=data1[\"Simulation\"]*100\n",
    "\n",
    "d=[x_positions,total_efficiency_calculation, total_efficiency_experiment,total_efficiency_simulation]\n",
    "export_data=zip_longest(*d, fillvalue='')\n",
    "with open ('Total_efficiency.csv', 'w' , encoding=\"ISO-8859-1\", newline='') as myfile:\n",
    "    wr=csv.writer(myfile)\n",
    "    wr.writerow((\"x_positions\",\"total_efficiency_calculation\",\"total_efficiency_experiment\",\"total_efficiency_simulation\"))\n",
    "    wr.writerows(export_data)\n",
    "myfile.close()\n",
    "print(x_positions)\n",
    "\n",
    "#Calculation of the error bar for experimental data\n",
    "sigma=0\n",
    "average=0\n",
    "for i in total_efficiency_experiment:\n",
    "    average+=i/21\n",
    "print(\"Average: \")\n",
    "print(average)\n",
    "\n",
    "for i in total_efficiency_experiment:\n",
    "    sigma+=((i-average)*(i-average))\n",
    "sigma=math.sqrt(sigma/len(total_efficiency_calculation))\n",
    "e1=sigma/math.sqrt(len(total_efficiency_calculation))\n",
    "#Calculation of the error bar for simulation data\n",
    "\n",
    "sigma=0\n",
    "average=0\n",
    "for i in total_efficiency_simulation:\n",
    "    average+=i/21\n",
    "print(\"Average: \")\n",
    "print(average)\n",
    "\n",
    "for i in total_efficiency_simulation:\n",
    "    sigma+=((i-average)*(i-average))\n",
    "sigma=math.sqrt(sigma/len(total_efficiency_calculation))\n",
    "e2=sigma/math.sqrt(len(total_efficiency_calculation))\n",
    "\n",
    "\n",
    "\n",
    "\n",
    "plt.xlabel(\"Diagonal position x=y(cm)\")\n",
    "plt.ylabel(\"Absolute detection efficiency (%)\")\n",
    "plt.xticks(np.arange(-2,2.2,0.4),fontsize=10)\n",
    "plt.scatter(x_positions, total_efficiency_calculation,color=\"none\", edgecolor=\"red\",label=\"Calculation\")\n",
    "plt.scatter(x_positions, total_efficiency_experiment,color=\"none\", edgecolor=\"green\",marker='s' ,label=\"Experiment\")\n",
    "plt.scatter(x_positions, total_efficiency_simulation,color=\"none\", edgecolor=\"blue\",marker='^' ,label=\"Simulation\")\n",
    "plt.errorbar(x_positions, total_efficiency_experiment, yerr=e1, color=\"black\", capsize=3, ls=\"none\",label=\"Experimental uncertainty\")\n",
    "plt.errorbar(x_positions, total_efficiency_simulation, yerr=e2, color=\"gray\", capsize=3, ls=\"none\",label=\"Simulation uncertainty\")\n",
    "plt.legend()\n",
    "plt.ylim(1,5)\n",
    "plt.rc('legend',fontsize=8)\n",
    "plt.legend(handlelength=0.5, handleheight=0.2)\n",
    "leg = plt.legend(loc =\"upper right\")\n",
    "plt.savefig(\"Diagonal.pdf\", bbox_inches=\"tight\")\n",
    "plt.show()"
   ]
  },
  {
   "cell_type": "code",
   "execution_count": null,
   "metadata": {},
   "outputs": [],
   "source": []
  },
  {
   "cell_type": "code",
   "execution_count": null,
   "metadata": {},
   "outputs": [],
   "source": []
  },
  {
   "cell_type": "code",
   "execution_count": null,
   "metadata": {},
   "outputs": [],
   "source": []
  }
 ],
 "metadata": {
  "kernelspec": {
   "display_name": "Python 3",
   "language": "python",
   "name": "python3"
  },
  "language_info": {
   "codemirror_mode": {
    "name": "ipython",
    "version": 3
   },
   "file_extension": ".py",
   "mimetype": "text/x-python",
   "name": "python",
   "nbconvert_exporter": "python",
   "pygments_lexer": "ipython3",
   "version": "3.7.3"
  }
 },
 "nbformat": 4,
 "nbformat_minor": 2
}
